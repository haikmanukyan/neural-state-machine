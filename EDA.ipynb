{
 "cells": [
  {
   "cell_type": "code",
   "execution_count": 1,
   "metadata": {},
   "outputs": [],
   "source": [
    "import os\n",
    "import tqdm \n",
    "import numpy as np\n",
    "import matplotlib.pyplot as plt\n",
    "\n",
    "import torch\n",
    "\n",
    "from src.data.ShapeManager import Data\n",
    "from src.data.SkeletonFrame import SkeletonFrame\n",
    "from src.data.NSMDataset import NSMRawDataset"
   ]
  },
  {
   "cell_type": "code",
   "execution_count": 4,
   "metadata": {},
   "outputs": [],
   "source": [
    "dataset_raw = NSMRawDataset(to_torch=True,only_test=True)\n",
    "\n",
    "# train_set = Data(dataset_raw.train_data, np.load('./data/input_norm.npy'), \"input\", \"./data/TrainSequencesClipped.txt\")\n",
    "test_set = Data(dataset_raw.test_data, np.load('./data/input_norm.npy'), \"input\", \"./data/TestSequencesClipped.txt\")"
   ]
  },
  {
   "cell_type": "code",
   "execution_count": 5,
   "metadata": {},
   "outputs": [],
   "source": [
    "def play_clip(path):\n",
    "    if os.name == 'nt':\n",
    "        os.system('/home/hayk/.virtualenvs/ai/bin/python ./run_model.py %s' % path)\n",
    "    else:\n",
    "        os.system('./run_model.py %s' % path)     \n",
    "\n",
    "def play(clip):\n",
    "    np.save('./data/tmp/clip.npy', clip.data)\n",
    "    play_clip('./data/tmp/clip.npy')"
   ]
  },
  {
   "cell_type": "code",
   "execution_count": 10,
   "metadata": {},
   "outputs": [],
   "source": [
    "play(test_set(10))"
   ]
  },
  {
   "cell_type": "code",
   "execution_count": 16,
   "metadata": {},
   "outputs": [
    {
     "data": {
      "text/plain": [
       "array([['Idle', 'Idle', 'Idle', 'Idle', 'Idle', 'Idle', 'Idle', 'Idle',\n",
       "        'Idle', 'Idle', 'Idle', 'Idle', 'Idle'],\n",
       "       ['Idle', 'Idle', 'Idle', 'Idle', 'Idle', 'Idle', 'Idle', 'Idle',\n",
       "        'Idle', 'Idle', 'Idle', 'Idle', 'Idle'],\n",
       "       ['Idle', 'Idle', 'Idle', 'Idle', 'Idle', 'Idle', 'Idle', 'Idle',\n",
       "        'Idle', 'Idle', 'Idle', 'Idle', 'Idle'],\n",
       "       ['Idle', 'Idle', 'Idle', 'Idle', 'Idle', 'Idle', 'Idle', 'Idle',\n",
       "        'Idle', 'Idle', 'Idle', 'Idle', 'Idle'],\n",
       "       ['Idle', 'Idle', 'Idle', 'Idle', 'Idle', 'Idle', 'Idle', 'Idle',\n",
       "        'Idle', 'Idle', 'Idle', 'Idle', 'Idle'],\n",
       "       ['Idle', 'Idle', 'Idle', 'Idle', 'Idle', 'Idle', 'Idle', 'Idle',\n",
       "        'Idle', 'Idle', 'Idle', 'Idle', 'Idle'],\n",
       "       ['Idle', 'Idle', 'Idle', 'Idle', 'Idle', 'Idle', 'Idle', 'Idle',\n",
       "        'Idle', 'Idle', 'Idle', 'Idle', 'Idle'],\n",
       "       ['Idle', 'Idle', 'Idle', 'Idle', 'Idle', 'Idle', 'Idle', 'Idle',\n",
       "        'Idle', 'Idle', 'Idle', 'Idle', 'Idle'],\n",
       "       ['Idle', 'Idle', 'Idle', 'Idle', 'Idle', 'Idle', 'Idle', 'Idle',\n",
       "        'Idle', 'Idle', 'Idle', 'Idle', 'Idle'],\n",
       "       ['Idle', 'Idle', 'Idle', 'Idle', 'Idle', 'Idle', 'Idle', 'Idle',\n",
       "        'Idle', 'Idle', 'Idle', 'Idle', 'Idle']], dtype='<U5')"
      ]
     },
     "execution_count": 16,
     "metadata": {},
     "output_type": "execute_result"
    }
   ],
   "source": [
    "train_set.trajectory_action_labels[:10]"
   ]
  },
  {
   "cell_type": "code",
   "execution_count": 18,
   "metadata": {},
   "outputs": [
    {
     "data": {
      "text/plain": [
       "500"
      ]
     },
     "execution_count": 18,
     "metadata": {},
     "output_type": "execute_result"
    }
   ],
   "source": []
  },
  {
   "cell_type": "code",
   "execution_count": null,
   "metadata": {},
   "outputs": [],
   "source": []
  }
 ],
 "metadata": {
  "kernelspec": {
   "display_name": "Python 3",
   "language": "python",
   "name": "python3"
  },
  "language_info": {
   "codemirror_mode": {
    "name": "ipython",
    "version": 3
   },
   "file_extension": ".py",
   "mimetype": "text/x-python",
   "name": "python",
   "nbconvert_exporter": "python",
   "pygments_lexer": "ipython3",
   "version": "3.6.9"
  }
 },
 "nbformat": 4,
 "nbformat_minor": 4
}
