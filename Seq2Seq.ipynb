{
 "cells": [
  {
   "cell_type": "code",
   "execution_count": 1,
   "metadata": {},
   "outputs": [],
   "source": [
    "%matplotlib widget\n",
    "%load_ext autoreload\n",
    "%autoreload 2"
   ]
  },
  {
   "cell_type": "code",
   "execution_count": 2,
   "metadata": {},
   "outputs": [],
   "source": [
    "import numpy as np\n",
    "import torch\n",
    "from torch import nn\n",
    "\n",
    "from src.data.ShapeManager import Data\n",
    "from src.data.SkeletonFrame import SkeletonFrame\n",
    "from scripts.train_seq2seq import *\n",
    "\n",
    "\n",
    "import unicodedata\n",
    "import string\n",
    "import re\n",
    "import random\n",
    "\n",
    "import torch\n",
    "import torch.nn as nn\n",
    "from torch import optim\n",
    "import torch.nn.functional as F\n",
    "\n",
    "\n",
    "device = torch.device(\"cuda\" if torch.cuda.is_available() else \"cpu\")"
   ]
  },
  {
   "cell_type": "code",
   "execution_count": 3,
   "metadata": {},
   "outputs": [],
   "source": [
    "data = np.load('./data/test16.npy')\n",
    "sequences = np.loadtxt('./data/TestSequences.txt')\n",
    "\n",
    "input_data = Data(data, np.load('./data/input_norm.npy'), \"input\", sequences)\n",
    "output_data = Data(data, np.load('./data/output_norm.npy'), \"output\", sequences)"
   ]
  },
  {
   "cell_type": "code",
   "execution_count": 5,
   "metadata": {},
   "outputs": [],
   "source": [
    "import math"
   ]
  },
  {
   "cell_type": "code",
   "execution_count": 13,
   "metadata": {},
   "outputs": [
    {
     "data": {
      "text/plain": [
       "1"
      ]
     },
     "execution_count": 13,
     "metadata": {},
     "output_type": "execute_result"
    }
   ],
   "source": [
    "n = 0\n",
    "1 >> n"
   ]
  },
  {
   "cell_type": "code",
   "execution_count": 10,
   "metadata": {},
   "outputs": [],
   "source": [
    "class Seq2Seq:\n",
    "    def __init__(self):\n",
    "        self.MAX_LENGTH = 100\n",
    "        self.input_size = 575\n",
    "        self.encoder = torch.load('models/seq2seq/encoder.pt')\n",
    "        self.decoder = torch.load('models/seq2seq/decoder.pt')\n",
    "\n",
    "    def encode(self, input_tensor):\n",
    "        encoder_hidden = self.encoder.initHidden()\n",
    "        input_length = input_tensor.size(0)\n",
    "        encoder_outputs = torch.zeros(MAX_LENGTH, self.encoder.hidden_size).cuda()\n",
    "\n",
    "        for ei in range(input_length):\n",
    "            encoder_output, encoder_hidden = self.encoder(input_tensor[ei], encoder_hidden)\n",
    "            encoder_outputs[ei] = encoder_output[0, 0]\n",
    "        return encoder_outputs, encoder_hidden\n",
    "\n",
    "    def decode(self, decoder_input, decoder_hidden, encoder_outputs):\n",
    "        decoder_outputs = torch.zeros(self.MAX_LENGTH, self.input_size).cuda()\n",
    "\n",
    "        for di in range(MAX_LENGTH):\n",
    "            decoder_output, decoder_hidden = self.decoder(decoder_input, decoder_hidden)\n",
    "            decoder_input = decoder_output.squeeze().detach()\n",
    "            decoder_outputs[di] = decoder_output\n",
    "\n",
    "        return decoder_outputs\n",
    "    \n",
    "    def predict(self, input_data):\n",
    "        input_tensor = torch.from_numpy(input_data.astype(np.float32)).cuda()\n",
    "        encoder_outputs, encoder_hidden = self.encode(input_tensor)        \n",
    "        prediction_data = self.decode(input_tensor[-1], encoder_hidden, encoder_outputs)\n",
    "        return prediction_data.cpu().detach().numpy()\n",
    "    \n",
    "    def predict_next(self, input_data):"
   ]
  },
  {
   "cell_type": "code",
   "execution_count": 11,
   "metadata": {},
   "outputs": [],
   "source": [
    "input_numpy = input_data(0).data"
   ]
  },
  {
   "cell_type": "code",
   "execution_count": 16,
   "metadata": {},
   "outputs": [],
   "source": [
    "seq = Seq2Seq()\n",
    "prediction_data = seq.predict(input_numpy[:100, :575])\n",
    "prediction = Data(np.zeros(575), np.load('./data/input_norm.npy')[:,:575], \"input\", sequences)\n",
    "prediction.set_normed(prediction_data)"
   ]
  },
  {
   "cell_type": "code",
   "execution_count": 30,
   "metadata": {},
   "outputs": [
    {
     "data": {
      "application/vnd.jupyter.widget-view+json": {
       "model_id": "34c66a4a690c4416a9dc652fa1039fdd",
       "version_major": 2,
       "version_minor": 0
      },
      "text/plain": [
       "Canvas(toolbar=Toolbar(toolitems=[('Home', 'Reset original view', 'home', 'home'), ('Back', 'Back to previous …"
      ]
     },
     "metadata": {},
     "output_type": "display_data"
    }
   ],
   "source": [
    "frame = SkeletonFrame(prediction[20])\n",
    "\n",
    "fig = plt.figure()\n",
    "ax = fig.add_subplot(111,projection='3d')\n",
    "ax.set_xlim3d(-2,2)\n",
    "ax.set_ylim3d(-2,2)\n",
    "ax.set_zlim3d(0,4)\n",
    "\n",
    "frame.draw_character(ax)\n",
    "plt.show()"
   ]
  },
  {
   "cell_type": "code",
   "execution_count": 42,
   "metadata": {},
   "outputs": [],
   "source": [
    "prediction_data = decode(decoder, input_tensor[100], encoder_hidden, encoder_outputs)"
   ]
  },
  {
   "cell_type": "code",
   "execution_count": 43,
   "metadata": {},
   "outputs": [],
   "source": [
    "prediction = Data(np.zeros(575), np.load('./data/input_norm.npy')[:,:575], \"input\", sequences)\n",
    "prediction.set_normed(prediction_data.cpu().detach().numpy())\n",
    "\n",
    "frame = SkeletonFrame(prediction[0])"
   ]
  },
  {
   "cell_type": "code",
   "execution_count": 24,
   "metadata": {},
   "outputs": [],
   "source": [
    "anim = Animation()\n",
    "anim.add_frames([SkeletonFrame(x) for x in prediction])"
   ]
  },
  {
   "cell_type": "code",
   "execution_count": null,
   "metadata": {},
   "outputs": [],
   "source": []
  },
  {
   "cell_type": "code",
   "execution_count": 20,
   "metadata": {},
   "outputs": [
    {
     "data": {
      "application/vnd.jupyter.widget-view+json": {
       "model_id": "14e04a90e2624abd9b3db56b12c7bc2c",
       "version_major": 2,
       "version_minor": 0
      },
      "text/plain": [
       "Canvas(toolbar=Toolbar(toolitems=[('Home', 'Reset original view', 'home', 'home'), ('Back', 'Back to previous …"
      ]
     },
     "metadata": {},
     "output_type": "display_data"
    }
   ],
   "source": [
    "from src.data.Animation import Animation\n",
    "\n",
    "def update():\n",
    "    pass\n",
    "\n",
    "fig = plt.figure()\n",
    "ax = fig.add_subplot(111,projection='3d')\n",
    "ax.set_xlim3d(-2,2)\n",
    "ax.set_ylim3d(-2,2)\n",
    "ax.set_zlim3d(0,4)\n",
    "\n",
    "anim.FuncAnimation(self.fig, update, len(self.animations[0]), interval = 1000 / 120., blit=True)\n",
    "\n",
    "frame.draw_character(ax)\n",
    "plt.show()"
   ]
  },
  {
   "cell_type": "code",
   "execution_count": 19,
   "metadata": {},
   "outputs": [],
   "source": []
  },
  {
   "cell_type": "code",
   "execution_count": null,
   "metadata": {},
   "outputs": [],
   "source": []
  }
 ],
 "metadata": {
  "kernelspec": {
   "display_name": "Python 3.7.7 64-bit ('ai': venv)",
   "language": "python",
   "name": "python37764bitaivenv9317de8f95154a25b92310423f13b3ba"
  },
  "language_info": {
   "codemirror_mode": {
    "name": "ipython",
    "version": 3
   },
   "file_extension": ".py",
   "mimetype": "text/x-python",
   "name": "python",
   "nbconvert_exporter": "python",
   "pygments_lexer": "ipython3",
   "version": "3.7.7"
  }
 },
 "nbformat": 4,
 "nbformat_minor": 4
}
