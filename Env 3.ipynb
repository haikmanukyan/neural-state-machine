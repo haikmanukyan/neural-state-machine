{
 "cells": [
  {
   "cell_type": "code",
   "execution_count": 1,
   "metadata": {},
   "outputs": [],
   "source": [
    "%matplotlib widget\n",
    "%load_ext autoreload\n",
    "%autoreload 2"
   ]
  },
  {
   "cell_type": "code",
   "execution_count": 2,
   "metadata": {},
   "outputs": [],
   "source": [
    "import numpy as np\n",
    "import matplotlib.pyplot as plt\n",
    "import matplotlib.animation as anim\n",
    "\n",
    "from src.env.Environment import BoxEnv, Box\n",
    "from src.env.Transform import Transform\n",
    "from src.env.Skeleton import Skeleton\n",
    "from src.env.Environment import Interactive\n",
    "from src.data.ShapeManager import Data\n",
    "from src.data.SkeletonFrame import SkeletonFrame"
   ]
  },
  {
   "cell_type": "code",
   "execution_count": 3,
   "metadata": {},
   "outputs": [],
   "source": [
    "X = Data(np.load('./data/test16.npy'), np.load('./data/input_norm.npy'), \"input\")\n",
    "\n",
    "\n",
    "data = np.load('data/test16.npy').astype(np.float32)\n",
    "sequences = np.loadtxt('./data/TestSequences.txt')\n",
    "\n",
    "input_norm = np.load('data/input_norm.npy').astype(np.float32)\n",
    "output_norm = np.load('data/output_norm.npy').astype(np.float32)\n",
    "\n",
    "input_data = Data(data[:,:input_norm.shape[1]], input_norm, \"input\", sequences)\n",
    "output_data = Data(data[:,input_norm.shape[1]:], output_norm, \"output\", sequences)"
   ]
  },
  {
   "cell_type": "code",
   "execution_count": 4,
   "metadata": {
    "jupyter": {
     "source_hidden": true
    }
   },
   "outputs": [],
   "source": [
    "class WorldFrame:\n",
    "    def __init__(self, data):       \n",
    "        self.data = data\n",
    "        self.projection = \"3d\"\n",
    "\n",
    "        self.bone_order = list(range(7)) + [5] + list(range(7,11)) \\\n",
    "                + list(range(10,6,-1)) + [5] + list(range(11,15)) \\\n",
    "                + list(range(14,10,-1)) + list(range(5,-1,-1)) \\\n",
    "                    + list(range(15,19)) + list(range(18,14,-1)) + [0] \\\n",
    "                        + list(range(19,23))\n",
    "\n",
    "    def draw_points(self, ax, points, size = 5, alpha = 1., linestyle = \"\", linewidth = 3, marker = \"o\", c = None):\n",
    "        return ax.plot(points[:,0],points[:,2],points[:,1], linestyle=linestyle, c = c, linewidth=linewidth, marker=marker, markersize = size, alpha = alpha)[0]\n",
    "    def update_points(self, graph, points, size = 5):\n",
    "        graph.set_data(points[:,0],points[:,2])\n",
    "        graph.set_3d_properties(points[:,1])\n",
    "\n",
    "    def draw_goals(self, ax):\n",
    "        return self.draw_points(ax, self.data.goal_position, linestyle=None)\n",
    "    def update_goals(self, graph):\n",
    "        self.update_points(graph, self.data.goal_position)\n",
    "\n",
    "    def draw_trajectory(self, ax):\n",
    "        return ax.plot(\n",
    "            self.data.trajectory_position[:,0],\n",
    "            self.data.trajectory_position[:,1],\n",
    "            self.data.trajectory_position[:,0] * 0,\n",
    "            marker=\"o\"\n",
    "        )[0]\n",
    "    def update_trajectory(self, graph):\n",
    "        graph.set_data(\n",
    "            self.data.trajectory_position[:,0],\n",
    "            self.data.trajectory_position[:,1]\n",
    "        )\n",
    "        graph.set_3d_properties(\n",
    "            self.data.trajectory_position[:,0] * 0,\n",
    "        )\n",
    "\n",
    "    def draw_interaction(self, ax):\n",
    "        return self.draw_points(\n",
    "            ax, \n",
    "            self.data.interaction_position[self.data.interaction_occupancy > 1e-5]\n",
    "        )\n",
    "    def update_interaction(self, graph):\n",
    "        self.update_points(\n",
    "            graph, \n",
    "            self.data.interaction_position[self.data.interaction_occupancy > 1e-5]\n",
    "        )\n",
    "\n",
    "    def draw_environment(self, ax):\n",
    "        points = gen_points(4, 9, 9)\n",
    "        points = points[self.data.environment > 0]\n",
    "        return self.draw_points(\n",
    "            ax, \n",
    "            points, \n",
    "            alpha = 0.5, \n",
    "            size = 15\n",
    "        )\n",
    "    def update_environment(self, graph):\n",
    "        points = gen_points(4, 9, 9)\n",
    "        points = points[self.data.environment > 1e-5]\n",
    "        self.update_points(graph, points)\n",
    "\n",
    "    def draw_character(self, ax):\n",
    "        return self.draw_points(ax, self.data.bone_position[self.bone_order], linestyle=\"-\")\n",
    "\n",
    "    def update_character(self, graph):\n",
    "        self.update_points(graph, self.data.bone_position[self.bone_order])\n",
    "\n",
    "    def draw(self, ax):\n",
    "        ax.set_yticklabels([])\n",
    "        ax.set_xticklabels([])\n",
    "        ax.set_zticklabels([])\n",
    "\n",
    "        graph = [\n",
    "            self.draw_goals(ax),\n",
    "            self.draw_trajectory(ax),\n",
    "            self.draw_environment(ax),\n",
    "            self.draw_interaction(ax),\n",
    "            self.draw_character(ax)\n",
    "        ]\n",
    "\n",
    "        return graph\n",
    "\n",
    "    def update(self, graph):\n",
    "        func = [\n",
    "            self.update_goals,\n",
    "            self.update_trajectory,\n",
    "            self.update_environment,\n",
    "            self.update_interaction,\n",
    "            self.update_character\n",
    "        ]\n",
    "        for f,x in zip(func, graph):\n",
    "            f(x)\n",
    "        return graph"
   ]
  },
  {
   "cell_type": "code",
   "execution_count": 5,
   "metadata": {
    "jupyter": {
     "source_hidden": true
    }
   },
   "outputs": [],
   "source": [
    "class World:\n",
    "    def __init__(self, env, objects):\n",
    "        self.skeleton = Skeleton([0,0],[1,0])\n",
    "        self.env = env\n",
    "        self.objects = objects\n",
    "        self.obj_idx = -1\n",
    "        \n",
    "        self.init()\n",
    "    \n",
    "    def init(self):\n",
    "        fig = plt.figure()\n",
    "        self.ax = fig.add_subplot(111,projection='3d')\n",
    "\n",
    "        self.ax.set_xlim3d(-3,3)\n",
    "        self.ax.set_ylim3d(-3,3)\n",
    "        self.ax.set_zlim3d(0,6)\n",
    "        \n",
    "        self.frame = SkeletonFrame(self.skeleton.current)        \n",
    "        self.graph = self.frame.draw(self.ax)\n",
    "        \n",
    "    def get_data(self):\n",
    "        data = self.skeleton.current\n",
    "        collision = self.env.collide(self.skeleton)                \n",
    "    \n",
    "    def draw(self):\n",
    "        pass\n",
    "    \n",
    "    def update(self):\n",
    "        self.skeleton.update(self.env, [])\n",
    "        self.frame = SkeletonFrame(self.skeleton.current)\n",
    "        self.frame.update(self.graph)\n",
    "\n",
    "        \n",
    "        return self.graph\n",
    "        \n",
    "    def play(self):\n",
    "        self.anim = anim.FuncAnimation(self.fig, self.update, interval = 1000 / 120., blit=True)\n",
    "\n",
    "    def pause(self):\n",
    "        self.is_paused = True\n",
    "\n",
    "    def resume(self):\n",
    "        self.is_paused = False\n"
   ]
  },
  {
   "cell_type": "code",
   "execution_count": 6,
   "metadata": {},
   "outputs": [
    {
     "name": "stderr",
     "output_type": "stream",
     "text": [
      "/home/hayk/.pyenv/versions/ai/lib/python3.7/site-packages/torch/serialization.py:657: SourceChangeWarning: source code of class 'src.nn.nets.NSM' has changed. you can retrieve the original source code by accessing the object's source attribute or set `torch.nn.Module.dump_patches = True` and use the patch tool to revert the changes.\n",
      "  warnings.warn(msg, SourceChangeWarning)\n"
     ]
    },
    {
     "data": {
      "application/vnd.jupyter.widget-view+json": {
       "model_id": "5f32d4573e444bc4bea2f480b9fe7e54",
       "version_major": 2,
       "version_minor": 0
      },
      "text/plain": [
       "Canvas(toolbar=Toolbar(toolitems=[('Home', 'Reset original view', 'home', 'home'), ('Back', 'Back to previous …"
      ]
     },
     "metadata": {},
     "output_type": "display_data"
    }
   ],
   "source": [
    "env = BoxEnv([\n",
    "    Box()\n",
    "])\n",
    "obj_list = []\n",
    "world = World(env, obj_list)"
   ]
  },
  {
   "cell_type": "code",
   "execution_count": 7,
   "metadata": {},
   "outputs": [],
   "source": [
    "current = data[0]\n",
    "next = data[1]"
   ]
  },
  {
   "cell_type": "code",
   "execution_count": 8,
   "metadata": {},
   "outputs": [
    {
     "data": {
      "text/plain": [
       "array([0.00174046, 0.00301933], dtype=float32)"
      ]
     },
     "execution_count": 8,
     "metadata": {},
     "output_type": "execute_result"
    }
   ],
   "source": [
    "input_data[0].trajectory_position[8]"
   ]
  },
  {
   "cell_type": "code",
   "execution_count": 46,
   "metadata": {},
   "outputs": [
    {
     "data": {
      "text/plain": [
       "array([1.0000751, 1.0001705, 1.0000502, 1.0000007, 1.000051 , 1.000018 ,\n",
       "       1.       , 1.0000002, 1.       , 1.0000069, 1.0000104, 1.0000201,\n",
       "       1.000011 ], dtype=float32)"
      ]
     },
     "execution_count": 46,
     "metadata": {},
     "output_type": "execute_result"
    }
   ],
   "source": [
    "np.linalg.norm(input_data[0].trajectory_direction, axis = 1)"
   ]
  },
  {
   "cell_type": "code",
   "execution_count": 52,
   "metadata": {},
   "outputs": [
    {
     "data": {
      "text/plain": [
       "6.123233995736766e-17"
      ]
     },
     "execution_count": 52,
     "metadata": {},
     "output_type": "execute_result"
    }
   ],
   "source": [
    "np.cos(angle)"
   ]
  },
  {
   "cell_type": "code",
   "execution_count": 53,
   "metadata": {},
   "outputs": [
    {
     "data": {
      "text/plain": [
       "1.0"
      ]
     },
     "execution_count": 53,
     "metadata": {},
     "output_type": "execute_result"
    }
   ],
   "source": [
    "np.sin(angle)"
   ]
  },
  {
   "cell_type": "code",
   "execution_count": 10,
   "metadata": {},
   "outputs": [],
   "source": [
    "traj = input_data.trajectory_position"
   ]
  },
  {
   "cell_type": "code",
   "execution_count": 14,
   "metadata": {},
   "outputs": [],
   "source": [
    "A = np.insert(traj, 1, 0, axis = 2)"
   ]
  },
  {
   "cell_type": "code",
   "execution_count": 27,
   "metadata": {},
   "outputs": [
    {
     "data": {
      "application/vnd.jupyter.widget-view+json": {
       "model_id": "67379298745f4d59af4c6cd7b0ce6a5a",
       "version_major": 2,
       "version_minor": 0
      },
      "text/plain": [
       "Canvas(toolbar=Toolbar(toolitems=[('Home', 'Reset original view', 'home', 'home'), ('Back', 'Back to previous …"
      ]
     },
     "metadata": {},
     "output_type": "display_data"
    },
    {
     "data": {
      "text/plain": [
       "<mpl_toolkits.mplot3d.art3d.Poly3DCollection at 0x7f77653c1e50>"
      ]
     },
     "execution_count": 27,
     "metadata": {},
     "output_type": "execute_result"
    }
   ],
   "source": [
    "import numpy as np\n",
    "import matplotlib.pyplot as plt\n",
    "from mpl_toolkits.mplot3d import Axes3D\n",
    "\n",
    "fig = plt.figure()\n",
    "ax = fig.add_subplot(111,projection='3d')\n",
    "ax.set_xlim3d(-3,3)\n",
    "\n",
    "xx, yy = np.mgrid[-3:3,-3:3]\n",
    "z = 0 * xx\n",
    "\n",
    "ax.plot_surface(xx, yy, z, alpha=0.2)"
   ]
  },
  {
   "cell_type": "code",
   "execution_count": 24,
   "metadata": {},
   "outputs": [
    {
     "data": {
      "text/plain": [
       "array([[[-3, -3, -3, -3, -3, -3],\n",
       "        [-2, -2, -2, -2, -2, -2],\n",
       "        [-1, -1, -1, -1, -1, -1],\n",
       "        [ 0,  0,  0,  0,  0,  0],\n",
       "        [ 1,  1,  1,  1,  1,  1],\n",
       "        [ 2,  2,  2,  2,  2,  2]],\n",
       "\n",
       "       [[-3, -2, -1,  0,  1,  2],\n",
       "        [-3, -2, -1,  0,  1,  2],\n",
       "        [-3, -2, -1,  0,  1,  2],\n",
       "        [-3, -2, -1,  0,  1,  2],\n",
       "        [-3, -2, -1,  0,  1,  2],\n",
       "        [-3, -2, -1,  0,  1,  2]]])"
      ]
     },
     "execution_count": 24,
     "metadata": {},
     "output_type": "execute_result"
    }
   ],
   "source": []
  },
  {
   "cell_type": "code",
   "execution_count": 15,
   "metadata": {},
   "outputs": [
    {
     "data": {
      "text/plain": [
       "array([[[ 9.3612671e-03, -4.0397644e-03],\n",
       "        [ 9.1476440e-03, -7.0495605e-03],\n",
       "        [ 7.2593689e-03, -8.8272095e-03],\n",
       "        ...,\n",
       "        [ 1.7995834e-03,  9.6588135e-03],\n",
       "        [-6.0021877e-05,  1.6464233e-02],\n",
       "        [-5.3787231e-03,  2.7099609e-02]],\n",
       "\n",
       "       [[ 9.3688965e-03, -5.1116943e-03],\n",
       "        [ 8.7966919e-03, -7.9498291e-03],\n",
       "        [ 6.6719055e-03, -9.3078613e-03],\n",
       "        ...,\n",
       "        [ 1.5401840e-03,  1.0360718e-02],\n",
       "        [-8.4018707e-04,  1.7776489e-02],\n",
       "        [-7.1601868e-03,  2.9541016e-02]],\n",
       "\n",
       "       [[ 9.2773438e-03, -6.0997009e-03],\n",
       "        [ 8.3084106e-03, -8.8195801e-03],\n",
       "        [ 5.9814453e-03, -9.5291138e-03],\n",
       "        ...,\n",
       "        [ 1.1100769e-03,  1.1222839e-02],\n",
       "        [-1.8701553e-03,  1.9226074e-02],\n",
       "        [-9.1629028e-03,  3.2196045e-02]],\n",
       "\n",
       "       ...,\n",
       "\n",
       "       [[ 1.2580872e-02, -1.1220703e+00],\n",
       "        [ 5.1513672e-02, -9.4873047e-01],\n",
       "        [ 7.7026367e-02, -8.1640625e-01],\n",
       "        ...,\n",
       "        [ 7.4218750e-02,  8.6279297e-01],\n",
       "        [ 5.1422119e-02,  1.0712891e+00],\n",
       "        [ 1.5823364e-02,  1.2412109e+00]],\n",
       "\n",
       "       [[ 4.4738770e-02, -1.1240234e+00],\n",
       "        [ 8.0139160e-02, -9.6044922e-01],\n",
       "        [ 9.6862793e-02, -8.3007812e-01],\n",
       "        ...,\n",
       "        [ 5.5297852e-02,  8.6132812e-01],\n",
       "        [ 1.9699097e-02,  1.0712891e+00],\n",
       "        [-1.3160706e-02,  1.2285156e+00]],\n",
       "\n",
       "       [[ 6.9335938e-02, -1.1269531e+00],\n",
       "        [ 1.0211182e-01, -9.7363281e-01],\n",
       "        [ 1.0992432e-01, -8.4277344e-01],\n",
       "        ...,\n",
       "        [ 3.5919189e-02,  8.6083984e-01],\n",
       "        [-8.3007812e-03,  1.0664062e+00],\n",
       "        [-3.7689209e-02,  1.2128906e+00]]], dtype=float32)"
      ]
     },
     "execution_count": 15,
     "metadata": {},
     "output_type": "execute_result"
    }
   ],
   "source": [
    "np.delete(A, 1, axis = 2)"
   ]
  },
  {
   "cell_type": "code",
   "execution_count": null,
   "metadata": {},
   "outputs": [],
   "source": []
  },
  {
   "cell_type": "code",
   "execution_count": null,
   "metadata": {},
   "outputs": [],
   "source": []
  },
  {
   "cell_type": "code",
   "execution_count": 94,
   "metadata": {},
   "outputs": [
    {
     "data": {
      "application/vnd.jupyter.widget-view+json": {
       "model_id": "ee7de569fac64b53a7e8d21d4bc9ac26",
       "version_major": 2,
       "version_minor": 0
      },
      "text/plain": [
       "Canvas(toolbar=Toolbar(toolitems=[('Home', 'Reset original view', 'home', 'home'), ('Back', 'Back to previous …"
      ]
     },
     "metadata": {},
     "output_type": "display_data"
    }
   ],
   "source": [
    "b = Box(Transform.from_rot_pos(\n",
    "    [45,0,0],\n",
    "    [1,1,1]\n",
    "))\n",
    "drawing.draw_cube(b.get_def())"
   ]
  },
  {
   "cell_type": "code",
   "execution_count": null,
   "metadata": {},
   "outputs": [],
   "source": []
  }
 ],
 "metadata": {
  "kernelspec": {
   "display_name": "Python 3.7.7 64-bit ('ai': venv)",
   "language": "python",
   "name": "python37764bitaivenv9317de8f95154a25b92310423f13b3ba"
  },
  "language_info": {
   "codemirror_mode": {
    "name": "ipython",
    "version": 3
   },
   "file_extension": ".py",
   "mimetype": "text/x-python",
   "name": "python",
   "nbconvert_exporter": "python",
   "pygments_lexer": "ipython3",
   "version": "3.7.7"
  }
 },
 "nbformat": 4,
 "nbformat_minor": 4
}
