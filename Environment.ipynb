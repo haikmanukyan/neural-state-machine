{
 "cells": [
  {
   "cell_type": "code",
   "execution_count": 1,
   "metadata": {},
   "outputs": [],
   "source": [
    "import numpy as np\n",
    "import matplotlib.pyplot as plt\n",
    "from mpl_toolkits.mplot3d import Axes3D\n",
    "\n",
    "from scipy.spatial.transform import Rotation as R"
   ]
  },
  {
   "cell_type": "code",
   "execution_count": 100,
   "metadata": {},
   "outputs": [],
   "source": [
    "%matplotlib widget\n",
    "%load_ext autoreload\n",
    "%autoreload 2"
   ]
  },
  {
   "cell_type": "code",
   "execution_count": 3,
   "metadata": {},
   "outputs": [],
   "source": [
    "from src.data.ShapeManager import Data\n",
    "data = Data(np.load('./data/test16.npy'), np.load('./data/input_norm.npy'), \"input\")"
   ]
  },
  {
   "cell_type": "code",
   "execution_count": 92,
   "metadata": {},
   "outputs": [],
   "source": [
    "def get_env_coords():\n",
    "    diameter = size / float((res - 1))\n",
    "    coverage = 0.5 * diameter\n",
    "    points = []\n",
    "    for y in range(layers): # height\n",
    "        for z in range(res): # radius\n",
    "            dist = z * coverage\n",
    "            arc = 2 * np.pi * dist\n",
    "            count = int(np.rint(arc / coverage))\n",
    "            for x in range(count): # angle\n",
    "                degrees = x / count * 2 * np.pi\n",
    "                coords = [dist * np.cos(degrees), y * coverage, dist * np.sin(degrees)]\n",
    "                    points.append(coords)\n",
    "    return np.array(points)\n",
    "\n",
    "def draw_points(points = None, env = None, ax = None):\n",
    "    if ax is None:\n",
    "        fig = plt.figure()\n",
    "        ax = fig.add_subplot(111,projection='3d')\n",
    "    \n",
    "    if env is not None:\n",
    "        ax.set_xlim3d(env.bounds[0][0], env.bounds[0][0] + env.bounds[0][1])\n",
    "        ax.set_ylim3d(env.bounds[1][0], env.bounds[1][0] + env.bounds[1][1])\n",
    "        ax.set_zlim3d(env.bounds[2][0], env.bounds[2][0] + env.bounds[2][1])\n",
    "\n",
    "    X,Z,Y = points.T\n",
    "\n",
    "    ax.scatter(X,Y,Z, alpha = 0.5)\n",
    "    return ax\n",
    "\n",
    "def draw_env(env):\n",
    "    fig = plt.figure()\n",
    "    ax = fig.add_subplot(111, projection='3d')\n",
    "    \n",
    "    ax.set_xlim3d(env.bounds[0][0], env.bounds[0][0] + env.bounds[0][1])\n",
    "    ax.set_ylim3d(env.bounds[1][0], env.bounds[1][0] + env.bounds[1][1])\n",
    "    ax.set_zlim3d(env.bounds[2][0], env.bounds[2][0] + env.bounds[2][1])\n",
    "    \n",
    "    points = np.array(np.where(env.map > 0)).T\n",
    "    points = points / env.res * env.bounds[:,1] + env.bounds[:,0]\n",
    "    return draw_points(points, ax = ax)\n",
    "    \n",
    "    \n",
    "def draw_obj(obj, position = [0,0,0], direction = [1,0,0], ax = None):\n",
    "    points = obj.get(position, direction)\n",
    "    points = points[:,:3]\n",
    "    return draw_points(points, ax = ax)\n",
    "\n",
    "def draw_collider(X):\n",
    "    fig = plt.figure()\n",
    "    ax = fig.add_subplot(111, projection='3d')\n",
    "    \n",
    "    env_points = get_env_coords()\n",
    "    points = env_points[X > 0]\n",
    "    return draw_points(points, ax = ax)\n",
    "        \n",
    "class Environment(object):\n",
    "    def __init__(self, bounds, res):\n",
    "        self.bounds = np.array(bounds)\n",
    "        self.bounds[:,1] -= self.bounds[:,0]\n",
    "        self.res = res\n",
    "        self.map = np.zeros((self.res,self.res,self.res))\n",
    "        \n",
    "        diameter = size / float((9 - 1))\n",
    "        self.fill_points = self.get_sphere(diameter)\n",
    "    \n",
    "    def get_sphere(self, radius):\n",
    "        rx,ry,rz = np.int32([radius,radius,radius] / self.bounds[:,1] * self.res)\n",
    "        points = np.array(np.meshgrid(range(-rx,rx), range(-ry,ry), range(-rz,rz))).reshape(3,-1).T\n",
    "        radii = np.linalg.norm(points / [rx,ry,rz], axis = 1)\n",
    "        points =  points[radii <= radius]\n",
    "        return np.int32(points)\n",
    "\n",
    "    def grid(self, coords, value = None, radius = None):\n",
    "        coords = (np.array(coords) - self.bounds[:,0]) / self.bounds[:,1] * self.res\n",
    "        x,y,z = np.int32(coords)\n",
    "        if value is not None:\n",
    "            if radius != None:\n",
    "                indices = tuple((self.fill_points + [x,y,z]).T)\n",
    "                self.map[indices] = value\n",
    "            else:\n",
    "                self.map[x,y,z] = value\n",
    "        return self.map[x,y,z]\n",
    "\n",
    "    def set_map(self, points, position = [0,0], direction = [1,0]):\n",
    "        position, direction = np.array(position), np.array(direction)\n",
    "        self.map = np.zeros((self.res,self.res,self.res))\n",
    "        \n",
    "        diameter = size / float((res - 1))\n",
    "        coverage = 0.5 * diameter\n",
    "        idx = 0\n",
    "        \n",
    "        for y in range(layers): # height\n",
    "            for z in range(res): # radius\n",
    "                dist = z * coverage\n",
    "                arc = 2 * np.pi * dist\n",
    "                count = int(np.rint(arc / coverage))\n",
    "\n",
    "                for x in range(count): # angle\n",
    "                    degrees = x / count * 2 * np.pi\n",
    "                    coords = [dist * np.cos(degrees), y * coverage, dist * np.sin(degrees)]\n",
    "                    self.grid(coords, points[idx], diameter)\n",
    "                    idx += 1\n",
    "\n",
    "    def get(self, position = np.array([0,0]), direction = np.array([1,0])):\n",
    "        position,direction = np.array(position), np.array(direction)\n",
    "        diameter = size / float((res - 1))\n",
    "        coverage = 0.5 * diameter\n",
    "        points = []\n",
    "        _x,_y = position\n",
    "        _w = np.arctan2(direction[1], direction[0])\n",
    "        \n",
    "        for y in range(layers): # height\n",
    "            for z in range(res): # radius\n",
    "                dist = z * coverage\n",
    "                arc = 2 * np.pi * dist\n",
    "                count = int(np.rint(arc / coverage))\n",
    "                for x in range(count): # angle\n",
    "                    degrees = x / count * 2 * np.pi\n",
    "                    coords = [_x + dist * np.cos(_w + degrees), y * coverage, _y + dist * np.sin(_w + degrees)]\n",
    "\n",
    "                    points.append(self.grid(coords))\n",
    "        return np.array(points)\n",
    "\n",
    "class World(object):\n",
    "    def __init__(self, environment, objects):\n",
    "        self.environment = environment\n",
    "        self.objects = objects\n",
    "\n",
    "    def get(self, position, object_idx = None):\n",
    "        obj = None if object_idx is None else self.objects[object_idx]\n",
    "        obj = None if obj is None else obj.get(position)\n",
    "        env = self.environment.get(position)\n",
    "        \n",
    "        return env, obj"
   ]
  },
  {
   "cell_type": "code",
   "execution_count": 93,
   "metadata": {},
   "outputs": [],
   "source": [
    "class Object(object):\n",
    "    def __init__(self, obj, position, direction):\n",
    "        self.points = obj[:,:3]\n",
    "        self.occ = obj[:,3]\n",
    "        self.position = position\n",
    "        self.direction = direction\n",
    "        self.up = np.array([0,1,0])\n",
    "        \n",
    "    def get(self, position, direction):\n",
    "        points = self.points @ rotation_matrix(direction, self.up).T + position\n",
    "        return np.concatenate([points, self.occ[:,None]],1)\n",
    "        \n",
    "        \n",
    "def rotation_matrix(forward, up):\n",
    "    forward, up = np.float32(forward) / np.linalg.norm(forward), np.float32(up) / np.linalg.norm(forward)\n",
    "    left = np.cross(forward, up)\n",
    "    up = np.cross(left, forward)\n",
    "    \n",
    "    return np.array([forward, up, left])"
   ]
  },
  {
   "cell_type": "code",
   "execution_count": 94,
   "metadata": {},
   "outputs": [],
   "source": [
    "size, res, layers = 4,9,9\n",
    "env_size = 4\n",
    "bounds = [[-env_size, env_size],[-env_size, env_size],[-env_size, env_size]]\n",
    "\n",
    "sample = data.environment[-1]\n",
    "\n",
    "env = Environment(bounds, 80)\n",
    "env.map[:,40:42,:] = 1\n",
    "\n",
    "sample = data.interaction[2175].reshape(-1,4)\n",
    "obj = Object(sample, [0,0,0], [1,0,0])"
   ]
  },
  {
   "cell_type": "code",
   "execution_count": 96,
   "metadata": {
    "collapsed": true,
    "jupyter": {
     "outputs_hidden": true
    }
   },
   "outputs": [
    {
     "data": {
      "application/vnd.jupyter.widget-view+json": {
       "model_id": "da2b32ed04414bc9a7c7228f04b9dace",
       "version_major": 2,
       "version_minor": 0
      },
      "text/plain": [
       "Canvas(toolbar=Toolbar(toolitems=[('Home', 'Reset original view', 'home', 'home'), ('Back', 'Back to previous …"
      ]
     },
     "metadata": {},
     "output_type": "display_data"
    },
    {
     "data": {
      "application/vnd.jupyter.widget-view+json": {
       "model_id": "bfaf903c85084d0e9d9ff0699a1d66af",
       "version_major": 2,
       "version_minor": 0
      },
      "text/plain": [
       "Canvas(toolbar=Toolbar(toolitems=[('Home', 'Reset original view', 'home', 'home'), ('Back', 'Back to previous …"
      ]
     },
     "metadata": {},
     "output_type": "display_data"
    },
    {
     "data": {
      "application/vnd.jupyter.widget-view+json": {
       "model_id": "bf71005a0966437ebf818d61cde52cd9",
       "version_major": 2,
       "version_minor": 0
      },
      "text/plain": [
       "Canvas(toolbar=Toolbar(toolitems=[('Home', 'Reset original view', 'home', 'home'), ('Back', 'Back to previous …"
      ]
     },
     "metadata": {},
     "output_type": "display_data"
    },
    {
     "data": {
      "text/plain": [
       "<matplotlib.axes._subplots.Axes3DSubplot at 0x7f2414999ad0>"
      ]
     },
     "execution_count": 96,
     "metadata": {},
     "output_type": "execute_result"
    }
   ],
   "source": [
    "draw_collider(env.get())\n",
    "env.get()\n",
    "\n",
    "draw_points(get_env_coords())\n",
    "ax = draw_env(env)\n",
    "draw_obj(obj, ax = ax)"
   ]
  },
  {
   "cell_type": "code",
   "execution_count": 97,
   "metadata": {},
   "outputs": [],
   "source": [
    "import numpy as np\n",
    "\n",
    "class Transform:\n",
    "    def __init__(self, matrix):\n",
    "        self.matrix = np.array(matrix)\n",
    "    \n",
    "    def rotation(self):\n",
    "        return self.matrix[:3,:3]\n",
    "    \n",
    "    def rotation_gl(self):\n",
    "        return [0,0]\n",
    "    \n",
    "    def translation(self):\n",
    "        return self.matrix[:3,3]\n",
    "    \n",
    "    def apply(self, points):\n",
    "        points = np.array(points)\n",
    "        if points.ndim == 1: points = points[None]\n",
    "        points = np.concatenate([points, np.ones([len(points),1])], 1)\n",
    "        return np.squeeze(points @ self.matrix.T)\n",
    "    \n",
    "    def inverse(self):\n",
    "        M = self.matrix.copy()\n",
    "        M[:3,:3] = self.rotation().T\n",
    "        M[:3,3] = - self.rotation().T @ self.translation()\n",
    "        return Transform(M)\n",
    "    \n",
    "    def local(self, point):\n",
    "        return point - self.translation()\n",
    "    \n",
    "    def mul(self, other):\n",
    "        return Transform(self.matrix @ other.matrix)\n",
    "    \n",
    "    def __repr__(self):\n",
    "        return np.array2string(self.matrix, precision = 4, suppress_small=True)\n",
    "    \n",
    "def from_euler(angles):\n",
    "    mat = np.eye(4)\n",
    "    mat[:3,:3] = Rotation.from_euler('xyz', angles).as_matrix()\n",
    "    return Transform(mat)\n",
    "\n",
    "def from_vec(vec):\n",
    "    mat = np.eye(4)\n",
    "    mat[:3,3] = vec\n",
    "    return Transform(mat)\n",
    "\n",
    "class Box:\n",
    "    def __init__(self, transform, size):\n",
    "        self.transorm = transform\n",
    "        self.size = size\n",
    "    \n",
    "    def collide(self, points):\n",
    "        return None\n",
    "    \n",
    "class BoxEnv:\n",
    "    def __init__(self, boxes, sensor_radius = 4, layers = 9, res = 9):\n",
    "        self.boxes = boxes\n",
    "        self.size = sensor_radius\n",
    "        self.layers = layers\n",
    "        self.res = res\n",
    "        \n",
    "    def collide_point(self, point):\n",
    "        return (self.size - np.minimum(np.linalg.norm(np.maximum((p - X) * [[-1],[1]], 0), axis = 2).max(1), self.size)).min()\n",
    "    \n",
    "    def collider_points(self, position = [0,0], direction = [1,0]):\n",
    "        position,direction = np.array(position), np.array(direction)\n",
    "        diameter = self.size / float((self.res - 1))\n",
    "        coverage = 0.5 * diameter\n",
    "        points = []\n",
    "        _x,_y = position\n",
    "        _w = np.arctan2(direction[1], direction[0])\n",
    "        \n",
    "        for y in range(self.layers): # height\n",
    "            for z in range(self.res): # radius\n",
    "                dist = z * coverage\n",
    "                arc = 2 * np.pi * dist\n",
    "                count = int(np.rint(arc / coverage))\n",
    "                for x in range(count): # angle\n",
    "                    degrees = x / count * 2 * np.pi\n",
    "                    coords = [_x + dist * np.cos(_w + degrees), y * coverage, _y + dist * np.sin(_w + degrees)]\n",
    "                    points.append(coords)\n",
    "        return np.array(points)\n",
    "    \n",
    "    "
   ]
  },
  {
   "cell_type": "code",
   "execution_count": 98,
   "metadata": {},
   "outputs": [],
   "source": [
    "env = BoxEnv([])"
   ]
  },
  {
   "cell_type": "code",
   "execution_count": 99,
   "metadata": {},
   "outputs": [
    {
     "data": {
      "application/vnd.jupyter.widget-view+json": {
       "model_id": "b36f59961b184970b1a289a34e9954eb",
       "version_major": 2,
       "version_minor": 0
      },
      "text/plain": [
       "Canvas(toolbar=Toolbar(toolitems=[('Home', 'Reset original view', 'home', 'home'), ('Back', 'Back to previous …"
      ]
     },
     "metadata": {},
     "output_type": "display_data"
    },
    {
     "data": {
      "text/plain": [
       "<matplotlib.axes._subplots.Axes3DSubplot at 0x7f2414928150>"
      ]
     },
     "execution_count": 99,
     "metadata": {},
     "output_type": "execute_result"
    }
   ],
   "source": [
    "draw_points(env.collider_points())"
   ]
  },
  {
   "cell_type": "code",
   "execution_count": null,
   "metadata": {},
   "outputs": [],
   "source": []
  }
 ],
 "metadata": {
  "kernelspec": {
   "display_name": "Python 3",
   "language": "python",
   "name": "python3"
  },
  "language_info": {
   "codemirror_mode": {
    "name": "ipython",
    "version": 3
   },
   "file_extension": ".py",
   "mimetype": "text/x-python",
   "name": "python",
   "nbconvert_exporter": "python",
   "pygments_lexer": "ipython3",
   "version": "3.7.7"
  }
 },
 "nbformat": 4,
 "nbformat_minor": 4
}
