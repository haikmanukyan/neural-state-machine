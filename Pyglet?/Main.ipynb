{
 "cells": [
  {
   "cell_type": "code",
   "execution_count": 28,
   "metadata": {},
   "outputs": [],
   "source": [
    "import numpy as np"
   ]
  },
  {
   "cell_type": "code",
   "execution_count": 29,
   "metadata": {},
   "outputs": [],
   "source": [
    "A = np.array([0,0,0])\n",
    "B = np.array([1,1,1])\n",
    "\n",
    "x = (B - A) / 13"
   ]
  },
  {
   "cell_type": "code",
   "execution_count": 46,
   "metadata": {},
   "outputs": [
    {
     "data": {
      "text/plain": [
       "array([[0.        , 0.        , 0.        ],\n",
       "       [0.08333333, 0.08333333, 0.08333333],\n",
       "       [0.16666667, 0.16666667, 0.16666667],\n",
       "       [0.25      , 0.25      , 0.25      ],\n",
       "       [0.33333333, 0.33333333, 0.33333333],\n",
       "       [0.41666667, 0.41666667, 0.41666667],\n",
       "       [0.5       , 0.5       , 0.5       ],\n",
       "       [0.58333333, 0.58333333, 0.58333333],\n",
       "       [0.66666667, 0.66666667, 0.66666667],\n",
       "       [0.75      , 0.75      , 0.75      ],\n",
       "       [0.83333333, 0.83333333, 0.83333333],\n",
       "       [0.91666667, 0.91666667, 0.91666667],\n",
       "       [1.        , 1.        , 1.        ]])"
      ]
     },
     "execution_count": 46,
     "metadata": {},
     "output_type": "execute_result"
    }
   ],
   "source": [
    "A + np.arange(0,1+1e-5,1/12)[:,None] * (B - A)"
   ]
  },
  {
   "cell_type": "code",
   "execution_count": null,
   "metadata": {},
   "outputs": [],
   "source": []
  }
 ],
 "metadata": {
  "kernelspec": {
   "display_name": "Python 3.7.7 64-bit ('gameai': venv)",
   "language": "python",
   "name": "python37764bitgameaivenvad63765203854981bf710054de200af0"
  },
  "language_info": {
   "codemirror_mode": {
    "name": "ipython",
    "version": 3
   },
   "file_extension": ".py",
   "mimetype": "text/x-python",
   "name": "python",
   "nbconvert_exporter": "python",
   "pygments_lexer": "ipython3",
   "version": "3.7.7"
  }
 },
 "nbformat": 4,
 "nbformat_minor": 4
}
